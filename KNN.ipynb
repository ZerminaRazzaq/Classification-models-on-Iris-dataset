{
  "nbformat": 4,
  "nbformat_minor": 0,
  "metadata": {
    "colab": {
      "name": "KNN.ipynb",
      "provenance": []
    },
    "kernelspec": {
      "name": "python3",
      "display_name": "Python 3"
    }
  },
  "cells": [
    {
      "cell_type": "code",
      "metadata": {
        "id": "raoRMUU4-iev"
      },
      "source": [
        "#first import the library\r\n",
        "import pandas as pd\r\n",
        "# datasert load\r\n",
        "dataset = pd.read_excel(\"/content/Accident (1) (1).xlsx\")\r\n",
        "\r\n",
        "print(dataset.head()) #it prints 5 rows of data\r\n",
        "#slicing\r\n",
        "X_features_input = dataset.iloc[:, :-1].values #features[rows, columms]\r\n",
        "print(\"X features input:\\n\",X_features_input)\r\n",
        "y_label_output = dataset.iloc[:, 3].values #labels\r\n",
        "from sklearn.model_selection import train_test_split\r\n",
        "X_train, X_test, y_train, y_test = train_test_split(X_features_input, y_label_output, test_size=0.20, random_state=5)\r\n",
        "#x_train = 80% of our features data(input)\r\n",
        "#x_test = 20% of our features data(input)\r\n",
        "#y_train = 80% of our lable data(output)\r\n",
        "#y_test = 20 % of pur lable data(output)\r\n",
        "#imported the algorithms from library\r\n",
        "from sklearn.neighbors import KNeighborsClassifier\r\n",
        "classifier = KNeighborsClassifier(n_neighbors=5)\r\n",
        "# to train the model you have to use the function of \"fit()\"\r\n",
        "# while traininf we only pass the 80 percent of our data\r\n",
        "classifier.fit(X_train, y_train) # X_train = features #y_train= lable\r\n",
        "# now we have to take prediction on testing data\r\n",
        "y_pred = classifier.predict(X_test) #here we only pass the features\r\n",
        "# from sklearn.metrics import classification_report, confusion_matrix\r\n",
        "# print(confusion_matrix(y_test, y_pred))\r\n",
        "#print(classification_report(y_test, y_pred))\r\n",
        "print(y_pred)\r\n",
        "from sklearn.metrics import accuracy_score\r\n",
        "print('Accuracy Score: ', accuracy_score(y_pred, y_test)) #y_pred is the output"
      ],
      "execution_count": null,
      "outputs": []
    }
  ]
}